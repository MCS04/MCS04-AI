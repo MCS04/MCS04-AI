{
 "cells": [
  {
   "attachments": {},
   "cell_type": "markdown",
   "metadata": {},
   "source": [
    "## ResNet-50 code below"
   ]
  },
  {
   "attachments": {},
   "cell_type": "markdown",
   "metadata": {},
   "source": [
    "### Import Dependencies"
   ]
  },
  {
   "cell_type": "code",
   "execution_count": 1,
   "metadata": {},
   "outputs": [
    {
     "name": "stdout",
     "output_type": "stream",
     "text": [
      "Num GPUs Available:  1\n"
     ]
    }
   ],
   "source": [
    "# pip install tensorflow<2.11\n",
    "# pip install numpy\n",
    "\n",
    "import tensorflow as tf\n",
    "import numpy as np\n",
    "print(\"Num GPUs Available: \", len(tf.config.list_physical_devices('GPU')))"
   ]
  },
  {
   "attachments": {},
   "cell_type": "markdown",
   "metadata": {},
   "source": [
    "### Splitting the data"
   ]
  },
  {
   "cell_type": "code",
   "execution_count": 2,
   "metadata": {},
   "outputs": [
    {
     "name": "stdout",
     "output_type": "stream",
     "text": [
      "Found 20 files belonging to 5 classes.\n",
      "Using 16 files for training.\n",
      "Found 20 files belonging to 5 classes.\n",
      "Using 4 files for validation.\n"
     ]
    }
   ],
   "source": [
    "# for the directory, please model it as following:\n",
    "# ebn-images/\n",
    "# ...A/\n",
    "# ......a_image_1.jpg\n",
    "# ......a_image_2.jpg\n",
    "# ...AA/\n",
    "# ......b_image_1.jpg\n",
    "# ......b_image_2.jpg\n",
    "# ...AAA/\n",
    "# ......a_image_1.jpg\n",
    "# ......a_image_2.jpg\n",
    "# ...AAAA/\n",
    "# ......b_image_1.jpg\n",
    "# ......b_image_2.jpg\n",
    "# ...other/\n",
    "# ......b_image_1.jpg\n",
    "# ......b_image_2.jpg\n",
    "\n",
    "\n",
    "# some splitting of data stuff\n",
    "img_height, img_width = 256, 256 # must provide, and all images must be the same size\n",
    "BATCH_SIZE = 32 # should be small if there's not a lot of data\n",
    "EPOCH = 5\n",
    "\n",
    "train_ds = tf.keras.utils.image_dataset_from_directory(\n",
    "    \"ebn_images\",\n",
    "    validation_split=0.2,\n",
    "    subset=\"training\",\n",
    "    seed=123,\n",
    "    labels='inferred',\n",
    "    label_mode='int',\n",
    "    image_size=(img_height, img_width),\n",
    "    batch_size=BATCH_SIZE)\n",
    "\n",
    "validation_ds = tf.keras.utils.image_dataset_from_directory(\n",
    "    \"ebn_images\",\n",
    "    validation_split=0.2,\n",
    "    subset=\"validation\",\n",
    "    seed=123,\n",
    "    labels='inferred',\n",
    "    label_mode='int',\n",
    "    image_size=(img_height, img_width),\n",
    "    batch_size=BATCH_SIZE)"
   ]
  },
  {
   "attachments": {},
   "cell_type": "markdown",
   "metadata": {},
   "source": [
    "### Compiling the model"
   ]
  },
  {
   "cell_type": "code",
   "execution_count": 3,
   "metadata": {},
   "outputs": [],
   "source": [
    "resnet_model = tf.keras.Sequential()\n",
    "resnet = tf.keras.applications.resnet50.ResNet50(include_top=False, input_shape=(256, 256, 3))\n",
    "resnet_model.add(resnet)\n",
    "\n",
    "resnet_model.add(tf.keras.layers.Flatten())\n",
    "\n",
    "# 128 neurons because our input data is not a lot\n",
    "resnet_model.add(tf.keras.layers.Dense(128, activation=tf.nn.relu))\n",
    "resnet_model.add(tf.keras.layers.Dense(5, activation=tf.nn.softmax))\n",
    "\n",
    "resnet_model.compile(optimizer=tf.keras.optimizers.SGD(\n",
    "    learning_rate=1e-1), loss='sparse_categorical_crossentropy', metrics=['accuracy'])"
   ]
  },
  {
   "attachments": {},
   "cell_type": "markdown",
   "metadata": {},
   "source": [
    "### Training the model"
   ]
  },
  {
   "cell_type": "code",
   "execution_count": 4,
   "metadata": {},
   "outputs": [
    {
     "name": "stdout",
     "output_type": "stream",
     "text": [
      "Epoch 1/5\n",
      "1/1 [==============================] - 9s 9s/step - loss: 4.0273 - accuracy: 0.0625\n",
      "Epoch 2/5\n",
      "1/1 [==============================] - 0s 258ms/step - loss: 444.3055 - accuracy: 0.6875\n",
      "Epoch 3/5\n",
      "1/1 [==============================] - 0s 262ms/step - loss: 1.6633 - accuracy: 0.1250\n",
      "Epoch 4/5\n",
      "1/1 [==============================] - 0s 260ms/step - loss: 1.3504 - accuracy: 0.8125\n",
      "Epoch 5/5\n",
      "1/1 [==============================] - 0s 259ms/step - loss: 1.3185 - accuracy: 0.8125\n"
     ]
    },
    {
     "data": {
      "text/plain": [
       "<keras.callbacks.History at 0x22b82042880>"
      ]
     },
     "execution_count": 4,
     "metadata": {},
     "output_type": "execute_result"
    }
   ],
   "source": [
    "resnet_model.fit(train_ds, epochs=EPOCH) "
   ]
  },
  {
   "attachments": {},
   "cell_type": "markdown",
   "metadata": {},
   "source": [
    "### Evaluating the Model"
   ]
  },
  {
   "cell_type": "code",
   "execution_count": 5,
   "metadata": {},
   "outputs": [
    {
     "name": "stdout",
     "output_type": "stream",
     "text": [
      "1/1 [==============================] - 2s 2s/step - loss: 665577650033118933590053805208109056.0000 - accuracy: 0.2500\n",
      "Test accuracy: 0.25\n"
     ]
    }
   ],
   "source": [
    "# some code of evaluating the model here\n",
    "test_loss, test_acc = resnet_model.evaluate(validation_ds)\n",
    "\n",
    "print('Test accuracy:', test_acc)"
   ]
  }
 ],
 "metadata": {
  "kernelspec": {
   "display_name": "Python 3",
   "language": "python",
   "name": "python3"
  },
  "language_info": {
   "codemirror_mode": {
    "name": "ipython",
    "version": 3
   },
   "file_extension": ".py",
   "mimetype": "text/x-python",
   "name": "python",
   "nbconvert_exporter": "python",
   "pygments_lexer": "ipython3",
   "version": "3.9.0"
  },
  "orig_nbformat": 4
 },
 "nbformat": 4,
 "nbformat_minor": 2
}
